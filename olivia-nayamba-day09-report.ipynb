{
 "cells": [
  {
   "cell_type": "markdown",
   "metadata": {
    "id": "sm-kMbirqqyt"
   },
   "source": [
    "# PyPro: challenge 1 \n",
    "\n",
    "\n",
    "\n",
    "`These exercises provide a wide range of challenges that test your understanding of Python's core concepts, such as control structures, data types, string manipulations, list comprehensions, and higher-order functions.`"
   ]
  },
  {
   "cell_type": "markdown",
   "metadata": {
    "id": "sm-kMbirqqyt"
   },
   "source": [
    "#### Basic Tasks\n",
    "\n",
    "1. Create a function `find_max()` that accepts two numeric inputs and returns the greater value. Avoid using the built-in `max()` function."
   ]
  },
  {
   "cell_type": "code",
   "execution_count": 4,
   "metadata": {},
   "outputs": [
    {
     "name": "stdout",
     "output_type": "stream",
     "text": [
      "Enter the value of x: 5\n",
      "Enter the value of y: 7\n",
      "7.0 is greater than 5.0\n"
     ]
    }
   ],
   "source": [
    "def find_max():\n",
    "    if x-y>0:\n",
    "        print(\"{} is greater than {}\".format(x,y))\n",
    "    elif x-y<0:\n",
    "        print(\"{} is greater than {}\".format(y,x))\n",
    "    else:\n",
    "        print(\"The two numbers are equal\")\n",
    "x= float(input(\"Enter the value of x: \"))\n",
    "y= float(input(\"Enter the value of y: \"))        \n",
    "find_max()"
   ]
  },
  {
   "cell_type": "markdown",
   "metadata": {
    "id": "sm-kMbirqqyt"
   },
   "source": [
    "2. Develop a function `find_max_of_three()` to find the maximum among three given numbers."
   ]
  },
  {
   "cell_type": "code",
   "execution_count": 5,
   "metadata": {},
   "outputs": [
    {
     "name": "stdout",
     "output_type": "stream",
     "text": [
      "Enter the first number a: 3\n",
      "Enter the second number b: 6\n",
      "Enter the third number c: 2\n",
      "The bigest number of the three is : 6\n"
     ]
    }
   ],
   "source": [
    "def find_max_of_three(a,b,c):\n",
    "    return \"The bigest number of the three is : {}\".format(max(a,b,c))\n",
    "a= int(input(\"Enter the first number a: \"))\n",
    "b= int(input(\"Enter the second number b: \"))\n",
    "c= int(input(\"Enter the third number c: \"))\n",
    "print(find_max_of_three(a,b,c))"
   ]
  },
  {
   "cell_type": "markdown",
   "metadata": {
    "id": "sm-kMbirqqyt"
   },
   "source": [
    "3. Write a function to manually calculate the length of a given list or string without using `len()`."
   ]
  },
  {
   "cell_type": "code",
   "execution_count": 9,
   "metadata": {},
   "outputs": [
    {
     "name": "stdout",
     "output_type": "stream",
     "text": [
      "Enter a sentence: Hello! everyone\n",
      "('The length of the string is: ', 15)\n"
     ]
    }
   ],
   "source": [
    "def manual_length(string):\n",
    "    \n",
    "    for i,char in enumerate(string):\n",
    "        i\n",
    "    return \"The length of the string is: \",i+1\n",
    "string =input(\"Enter a sentence: \")\n",
    "print(manual_length(string))"
   ]
  },
  {
   "cell_type": "code",
   "execution_count": 11,
   "metadata": {},
   "outputs": [
    {
     "name": "stdout",
     "output_type": "stream",
     "text": [
      "Enter a list: [1, 2, 3, 4, 5, 6]\n",
      "The length of the list ['[1', ' 2', ' 3', ' 4', ' 5', ' 6]'] is 6: \n"
     ]
    }
   ],
   "source": [
    "def manual_length(lists):\n",
    "    l=0\n",
    "    for i in lists:\n",
    "        l=l+1\n",
    "    return \"The length of the list {} is {}: \".format(lists,l)\n",
    "lists =input(\"Enter a list: \").split(\",\")\n",
    "print(manual_length(lists))"
   ]
  },
  {
   "cell_type": "markdown",
   "metadata": {
    "id": "sm-kMbirqqyt"
   },
   "source": [
    "4. Implement a function that checks if a given character is a vowel (a, e, i, o, u)."
   ]
  },
  {
   "cell_type": "code",
   "execution_count": 13,
   "metadata": {},
   "outputs": [
    {
     "name": "stdout",
     "output_type": "stream",
     "text": [
      "Enter a character to determine whether it's a vowel or not: p\n",
      "The entered character in not a Vowel\n"
     ]
    }
   ],
   "source": [
    "def vowel(char):\n",
    "    vowels=['a', 'e', 'i', 'o', 'u','A','E','I','O','U']\n",
    "    if char in vowels:\n",
    "        return True\n",
    "        print(\"character is a Vowel\")\n",
    "    else:\n",
    "        print(\"The entered character in not a Vowel\")\n",
    "char = input(\"Enter a character to determine whether it's a vowel or not: \")\n",
    "vowel(char)"
   ]
  },
  {
   "cell_type": "code",
   "execution_count": 16,
   "metadata": {},
   "outputs": [
    {
     "name": "stdout",
     "output_type": "stream",
     "text": [
      "Enter a character to determine whether it's a vowel or not: e\n"
     ]
    },
    {
     "data": {
      "text/plain": [
       "True"
      ]
     },
     "execution_count": 16,
     "metadata": {},
     "output_type": "execute_result"
    }
   ],
   "source": [
    "def vowel(char):\n",
    "    vowels=['a', 'e', 'i', 'o', 'u','A','E','I','O','U']\n",
    "    if char in vowels:\n",
    "        return True\n",
    "        print(\"character is a Vowel\")\n",
    "    else:\n",
    "        print(\"The entered character in not a Vowel\")\n",
    "char = input(\"Enter a character to determine whether it's a vowel or not: \")\n",
    "vowel(char)"
   ]
  },
  {
   "cell_type": "markdown",
   "metadata": {
    "id": "sm-kMbirqqyt"
   },
   "source": [
    "5. Write a function `encode()` that converts a string into \"rövarspråket\" ([robber's language](https://en.wikipedia.org/wiki/R%C3%B6varspr%C3%A5ket)) by doubling consonants and placing \"o\" in between, e.g., \"hello\" -> \"hohelollolo\"."
   ]
  },
  {
   "cell_type": "markdown",
   "metadata": {
    "id": "sm-kMbirqqyt"
   },
   "source": [
    "6. Create `sum_elements()` and `product_elements()` functions to sum and multiply all elements in a list, respectively."
   ]
  },
  {
   "cell_type": "code",
   "execution_count": 18,
   "metadata": {
    "scrolled": true
   },
   "outputs": [
    {
     "name": "stdout",
     "output_type": "stream",
     "text": [
      "('The sum of the elements is: ', 18)\n"
     ]
    }
   ],
   "source": [
    "def sum_elements(lista):\n",
    "    return \"The sum of the elements is: \", sum(lista)\n",
    "print(sum_elements([3,4,5,6]))"
   ]
  },
  {
   "cell_type": "code",
   "execution_count": 19,
   "metadata": {},
   "outputs": [
    {
     "name": "stdout",
     "output_type": "stream",
     "text": [
      "48\n"
     ]
    }
   ],
   "source": [
    "def product_elements(listb):\n",
    "    prod =1\n",
    "    for i in listb:\n",
    "        prod =prod*i\n",
    "    return prod\n",
    "listb=[2,2,3,4]\n",
    "print(product_elements(listb))"
   ]
  },
  {
   "cell_type": "markdown",
   "metadata": {
    "id": "sm-kMbirqqyt"
   },
   "source": [
    "7. Define a function `reverse_string()` to reverse the characters in a given string."
   ]
  },
  {
   "cell_type": "code",
   "execution_count": 20,
   "metadata": {},
   "outputs": [
    {
     "name": "stdout",
     "output_type": "stream",
     "text": [
      "enter the word to be reversed: sir\n",
      "ris\n"
     ]
    }
   ],
   "source": [
    "def reverse_string(word):\n",
    "    reverse_word = word[::-1]\n",
    "    return reverse_word\n",
    "word = input(\"enter the word to be reversed: \")\n",
    "print(reverse_string(word))"
   ]
  },
  {
   "cell_type": "markdown",
   "metadata": {},
   "source": [
    "9.Develop a function check_membership() to determine if a value exists within a list."
   ]
  },
  {
   "cell_type": "code",
   "execution_count": 8,
   "metadata": {},
   "outputs": [
    {
     "name": "stdout",
     "output_type": "stream",
     "text": [
      "True\n",
      "False\n"
     ]
    }
   ],
   "source": [
    "def check_membership(value, lst):\n",
    "\n",
    "    if value in lst:\n",
    "        return True\n",
    "    else:\n",
    "        return False\n",
    "my_list = [10,20,30,40,50]\n",
    "print(check_membership(20, my_list))\n",
    "print(check_membership(60, my_list))\n",
    "    "
   ]
  },
  {
   "cell_type": "code",
   "execution_count": null,
   "metadata": {},
   "outputs": [],
   "source": []
  }
 ],
 "metadata": {
  "colab": {
   "provenance": []
  },
  "kernelspec": {
   "display_name": "Python 3 (ipykernel)",
   "language": "python",
   "name": "python3"
  },
  "language_info": {
   "codemirror_mode": {
    "name": "ipython",
    "version": 3
   },
   "file_extension": ".py",
   "mimetype": "text/x-python",
   "name": "python",
   "nbconvert_exporter": "python",
   "pygments_lexer": "ipython3",
   "version": "3.11.2"
  }
 },
 "nbformat": 4,
 "nbformat_minor": 1
}
