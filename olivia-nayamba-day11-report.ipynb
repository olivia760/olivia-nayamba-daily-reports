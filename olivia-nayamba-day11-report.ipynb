{
 "cells": [
  {
   "cell_type": "markdown",
   "id": "04d3bfc4",
   "metadata": {},
   "source": [
    "Exercise 1:\n",
    "Create a NumPy array of integers from 1 to 10."
   ]
  },
  {
   "cell_type": "code",
   "execution_count": 12,
   "id": "3a519a6f",
   "metadata": {},
   "outputs": [
    {
     "name": "stdout",
     "output_type": "stream",
     "text": [
      "[ 1  2  3  4  5  6  7  8  9 10]\n"
     ]
    }
   ],
   "source": [
    "import numpy as np\n",
    "a = np.array([1,2,3,4,5,6,7,8,9,10])\n",
    "print(a)"
   ]
  },
  {
   "cell_type": "markdown",
   "id": "cbfeee1b",
   "metadata": {},
   "source": [
    "\n",
    "Exercise 2:\n",
    "Create a 3x3 NumPy array filled with zeros."
   ]
  },
  {
   "cell_type": "code",
   "execution_count": 15,
   "id": "9d2afb1e",
   "metadata": {},
   "outputs": [
    {
     "name": "stdout",
     "output_type": "stream",
     "text": [
      "[[0. 0. 0.]\n",
      " [0. 0. 0.]\n",
      " [0. 0. 0.]]\n"
     ]
    }
   ],
   "source": [
    "import numpy as np\n",
    "x = np.zeros((3,3))\n",
    "print(x)"
   ]
  },
  {
   "cell_type": "markdown",
   "id": "25b72aa4",
   "metadata": {},
   "source": [
    "\n",
    "Exercise 3:\n",
    "Create a NumPy array of 10 evenly spaced numbers between 0 and 5.\n",
    "\n"
   ]
  },
  {
   "cell_type": "code",
   "execution_count": 23,
   "id": "f285a864",
   "metadata": {},
   "outputs": [
    {
     "name": "stdout",
     "output_type": "stream",
     "text": [
      "[0.         0.55555556 1.11111111 1.66666667 2.22222222 2.77777778\n",
      " 3.33333333 3.88888889 4.44444444 5.        ]\n"
     ]
    }
   ],
   "source": [
    "import numpy as np\n",
    "a=np.linspace(0,5,10)\n",
    "print(a)"
   ]
  },
  {
   "cell_type": "markdown",
   "id": "71f7f1a3",
   "metadata": {},
   "source": [
    "Exercise 4:\n",
    "Create a 5x5 identity matrix using NumPy.\n",
    "\n"
   ]
  },
  {
   "cell_type": "code",
   "execution_count": 25,
   "id": "e97bfe22",
   "metadata": {},
   "outputs": [
    {
     "name": "stdout",
     "output_type": "stream",
     "text": [
      "[[1. 0. 0. 0. 0.]\n",
      " [0. 1. 0. 0. 0.]\n",
      " [0. 0. 1. 0. 0.]\n",
      " [0. 0. 0. 1. 0.]\n",
      " [0. 0. 0. 0. 1.]]\n"
     ]
    }
   ],
   "source": [
    "import numpy as np\n",
    "c = np.eye(5,5)\n",
    "print(c)"
   ]
  },
  {
   "cell_type": "markdown",
   "id": "2c612d34",
   "metadata": {},
   "source": [
    "Exercise 5:\n",
    "Create a 4x4 matrix with random values between 0 and 1.\n",
    "\n"
   ]
  },
  {
   "cell_type": "code",
   "execution_count": 29,
   "id": "ae95838b",
   "metadata": {},
   "outputs": [
    {
     "name": "stdout",
     "output_type": "stream",
     "text": [
      "[[0.58063557 0.58384465 0.50534099 0.62935316]\n",
      " [0.57763641 0.87406693 0.21650879 0.23627659]\n",
      " [0.35354077 0.55359127 0.82418083 0.07251447]\n",
      " [0.50824563 0.28326854 0.27625928 0.56826186]]\n"
     ]
    }
   ],
   "source": [
    "import numpy as np\n",
    "y = np.random.random([4,4])\n",
    "print(y)"
   ]
  },
  {
   "cell_type": "markdown",
   "id": "7a888d7a",
   "metadata": {},
   "source": [
    "Exercise 6:\n",
    "Find the shape of a NumPy array.\n",
    "\n"
   ]
  },
  {
   "cell_type": "code",
   "execution_count": 34,
   "id": "d145b863",
   "metadata": {
    "scrolled": true
   },
   "outputs": [
    {
     "name": "stdout",
     "output_type": "stream",
     "text": [
      "(6,)\n"
     ]
    }
   ],
   "source": [
    "import numpy as np\n",
    "z = np.array([1,2,3,5,7,11])\n",
    "print(z.shape)"
   ]
  },
  {
   "cell_type": "markdown",
   "id": "2f5104ad",
   "metadata": {},
   "source": [
    "Exercise 7:\n",
    "Reshape a 1D NumPy array of 16 elements into a 4x4 matrix.\n",
    "\n"
   ]
  },
  {
   "cell_type": "code",
   "execution_count": null,
   "id": "d17c7e3b",
   "metadata": {},
   "outputs": [],
   "source": [
    "import numpy as np\n",
    "d = np.array([])"
   ]
  },
  {
   "cell_type": "markdown",
   "id": "d1335be1",
   "metadata": {},
   "source": [
    "Exercise 8:\n",
    "Find the data type of the elements in a NumPy array.\n"
   ]
  },
  {
   "cell_type": "code",
   "execution_count": 38,
   "id": "df50dfed",
   "metadata": {},
   "outputs": [
    {
     "name": "stdout",
     "output_type": "stream",
     "text": [
      "[1 2 3 4 5]\n",
      "[1 2 3 4 5]\n",
      "int32\n",
      "20\n",
      "40\n"
     ]
    }
   ],
   "source": [
    " import numpy as np\n",
    "m = np.array([1,2,3,4,5], dtype=np.int32)\n",
    "print(m)\n",
    "n = np.array([1,2,3,4,5], dtype=np.int64)\n",
    "print(n)\n",
    "print(m.dtype)\n",
    "print(m.nbytes)\n",
    "print(n.nbytes)"
   ]
  },
  {
   "cell_type": "markdown",
   "id": "2ff791d6",
   "metadata": {},
   "source": [
    "Exercise 9:\n",
    "Create a NumPy array of integers from 1 to 100 and find all even numbers in the array.\n"
   ]
  },
  {
   "cell_type": "code",
   "execution_count": 42,
   "id": "49999a21",
   "metadata": {},
   "outputs": [
    {
     "data": {
      "text/plain": [
       "array([ 0,  2,  4,  6,  8, 10, 12, 14, 16, 18, 20, 22, 24, 26, 28, 30, 32,\n",
       "       34, 36, 38, 40, 42, 44, 46, 48, 50, 52, 54, 56, 58, 60, 62, 64, 66,\n",
       "       68, 70, 72, 74, 76, 78, 80, 82, 84, 86, 88, 90, 92, 94, 96, 98])"
      ]
     },
     "execution_count": 42,
     "metadata": {},
     "output_type": "execute_result"
    }
   ],
   "source": [
    "import numpy as np\n",
    "q = np.arange(100)\n",
    "q[q%2==0]\n"
   ]
  },
  {
   "cell_type": "markdown",
   "id": "4522c290",
   "metadata": {},
   "source": [
    "Exercise 10:\n",
    "Generate a 6x6 matrix of random integers between 10 and 50.\n"
   ]
  },
  {
   "cell_type": "code",
   "execution_count": 52,
   "id": "8dd41637",
   "metadata": {},
   "outputs": [
    {
     "name": "stdout",
     "output_type": "stream",
     "text": [
      "[[38 22 34 29 11 26]\n",
      " [39 10 21 40 43 34]\n",
      " [40 10 11 29 45 49]\n",
      " [13 44 37 17 12 30]\n",
      " [40 10 25 15 28 41]\n",
      " [13 36 47 34 47 11]]\n"
     ]
    }
   ],
   "source": [
    "import numpy as np\n",
    "my_arr = np.random.randint(10,50,[6,6])\n",
    "print(my_arr)\n",
    "\n",
    "\n"
   ]
  },
  {
   "cell_type": "markdown",
   "id": "fcf8a588",
   "metadata": {},
   "source": [
    "Exercise 11:\n",
    "Slice a 2D NumPy array to extract a submatrix.\n",
    "\n"
   ]
  },
  {
   "cell_type": "code",
   "execution_count": 63,
   "id": "a893e4aa",
   "metadata": {},
   "outputs": [
    {
     "name": "stdout",
     "output_type": "stream",
     "text": [
      "[39 10 21 40 43 34]\n"
     ]
    }
   ],
   "source": [
    "import numpy as np\n",
    "aaa=my_arr[1,]\n",
    "print(aaa)\n"
   ]
  },
  {
   "cell_type": "markdown",
   "id": "e6ce1803",
   "metadata": {},
   "source": [
    "Exercise 12:\n",
    "Calculate the sum of all elements in a NumPy array."
   ]
  },
  {
   "cell_type": "code",
   "execution_count": 64,
   "id": "f4ca056e",
   "metadata": {},
   "outputs": [
    {
     "name": "stdout",
     "output_type": "stream",
     "text": [
      "1031\n"
     ]
    }
   ],
   "source": [
    "add = np.sum(my_arr)\n",
    "print(add)"
   ]
  },
  {
   "cell_type": "code",
   "execution_count": null,
   "id": "77fa13ab",
   "metadata": {},
   "outputs": [],
   "source": [
    "Exercise 13:\n",
    "Calculate the mean, median, and standard deviation of a NumPy array."
   ]
  },
  {
   "cell_type": "code",
   "execution_count": 67,
   "id": "bc2a92e1",
   "metadata": {},
   "outputs": [
    {
     "name": "stdout",
     "output_type": "stream",
     "text": [
      "28.63888888888889\n",
      "29.5\n",
      "12.83691027592305\n"
     ]
    }
   ],
   "source": [
    "mean = np.mean(my_arr)\n",
    "print(mean)\n",
    "med = np.median(my_arr)\n",
    "print(med)\n",
    "std = np.std(my_arr)\n",
    "print(std)"
   ]
  },
  {
   "cell_type": "markdown",
   "id": "6b87a879",
   "metadata": {},
   "source": [
    "Exercise 14:\n",
    "Find the maximum and minimum values in a NumPy array."
   ]
  },
  {
   "cell_type": "code",
   "execution_count": 73,
   "id": "75a72cf1",
   "metadata": {
    "scrolled": false
   },
   "outputs": [
    {
     "name": "stdout",
     "output_type": "stream",
     "text": [
      "49\n",
      "10\n"
     ]
    }
   ],
   "source": [
    "ma = np.max(my_arr)\n",
    "mi = np.min(my_arr)\n",
    "print(ma)\n",
    "print(mi)"
   ]
  },
  {
   "cell_type": "code",
   "execution_count": null,
   "id": "8f4ebf54",
   "metadata": {},
   "outputs": [],
   "source": [
    "Exercise 15:\n",
    "Create a NumPy array of 20 random integers and find the index of the maximum value."
   ]
  },
  {
   "cell_type": "code",
   "execution_count": 84,
   "id": "c2043fe8",
   "metadata": {
    "scrolled": true
   },
   "outputs": [
    {
     "name": "stdout",
     "output_type": "stream",
     "text": [
      "[[ 1 18 10]\n",
      " [ 0 15  7]\n",
      " [14  1 19]]\n"
     ]
    }
   ],
   "source": [
    "t = np.random.randint(20, size= [3,3])\n",
    "print(t)"
   ]
  },
  {
   "cell_type": "code",
   "execution_count": 85,
   "id": "066d27e9",
   "metadata": {},
   "outputs": [
    {
     "name": "stdout",
     "output_type": "stream",
     "text": [
      "19\n"
     ]
    }
   ],
   "source": [
    "print(np.max(t))"
   ]
  },
  {
   "cell_type": "markdown",
   "id": "0c2388fe",
   "metadata": {},
   "source": [
    "Exercise 16:\n",
    "Create a NumPy array and reverse its elements.\n"
   ]
  },
  {
   "cell_type": "code",
   "execution_count": 90,
   "id": "9f4ae01f",
   "metadata": {},
   "outputs": [
    {
     "name": "stdout",
     "output_type": "stream",
     "text": [
      "[4 3 2 1]\n"
     ]
    }
   ],
   "source": [
    "import numpy as np\n",
    "t = np.array([1,2,3,4])\n",
    "print(np.flip(t))"
   ]
  },
  {
   "cell_type": "markdown",
   "id": "3741c932",
   "metadata": {},
   "source": [
    "Exercise 17:\n",
    "Create a 3x3 matrix and multiply it element-wise by another 3x3 matrix.\n",
    "\n"
   ]
  },
  {
   "cell_type": "code",
   "execution_count": 91,
   "id": "2c64ed50",
   "metadata": {},
   "outputs": [
    {
     "name": "stdout",
     "output_type": "stream",
     "text": [
      "[[ 9 16 21]\n",
      " [24 25 24]\n",
      " [21 16  9]]\n"
     ]
    }
   ],
   "source": [
    "import numpy as np\n",
    "\n",
    "# Define two 3x3 matrices\n",
    "matrix_a = np.array([[1, 2, 3],\n",
    "                     [4, 5, 6],\n",
    "                     [7, 8, 9]])\n",
    "\n",
    "matrix_b = np.array([[9, 8, 7],\n",
    "                     [6, 5, 4],\n",
    "                     [3, 2, 1]])\n",
    "\n",
    "# Perform element-wise multiplication\n",
    "element_wise_product = np.multiply(matrix_a, matrix_b)\n",
    "print(element_wise_product)\n"
   ]
  },
  {
   "cell_type": "code",
   "execution_count": 99,
   "id": "ab832d35",
   "metadata": {},
   "outputs": [
    {
     "name": "stdout",
     "output_type": "stream",
     "text": [
      "[[[2 3 5]\n",
      "  [1 6 1]\n",
      "  [4 2 1]]]\n",
      "--------------------------------\n",
      "[[[2 3 5]\n",
      "  [1 6 1]\n",
      "  [4 2 1]]]\n",
      "-------------------------------\n",
      "[[[ 4  9 25]\n",
      "  [ 1 36  1]\n",
      "  [16  4  1]]]\n"
     ]
    }
   ],
   "source": [
    "a = np.array([[[2,3,5],[1,6,1],[4,2,1]]])\n",
    "print(a)\n",
    "print('--------------------------------')\n",
    "b = np.array([[[2,3,5],[1,6,1],[4,2,1]]])\n",
    "print(b)\n",
    "print('-------------------------------')\n",
    "print(np.multiply(a,b))"
   ]
  },
  {
   "cell_type": "markdown",
   "id": "73608589",
   "metadata": {},
   "source": [
    "Exercise 18:\n",
    "Create a diagonal matrix from a given 1D array.\n",
    "\n"
   ]
  },
  {
   "cell_type": "code",
   "execution_count": 100,
   "id": "8a39f206",
   "metadata": {},
   "outputs": [
    {
     "name": "stdout",
     "output_type": "stream",
     "text": [
      "[[4 0 0]\n",
      " [0 5 0]\n",
      " [0 0 6]]\n"
     ]
    }
   ],
   "source": [
    "f = np.array([4,5,6])\n",
    "print(np.diag(f))"
   ]
  },
  {
   "cell_type": "markdown",
   "id": "c1d280da",
   "metadata": {},
   "source": [
    "Exercise 19:\n",
    "Perform matrix multiplication on two 2D NumPy arrays.\n",
    "\n"
   ]
  },
  {
   "cell_type": "code",
   "execution_count": 108,
   "id": "dc1cece0",
   "metadata": {},
   "outputs": [
    {
     "name": "stdout",
     "output_type": "stream",
     "text": [
      "2\n",
      "----------------------------\n",
      "2\n",
      "---------------------\n",
      "[[19 22]\n",
      " [43 50]]\n"
     ]
    }
   ],
   "source": [
    "b = np.array([[1,2],[3,4]])\n",
    "print(np.ndim(b))\n",
    "print('----------------------------')\n",
    "c = np.array([[5,6],[7,8]])\n",
    "print(np.ndim(c))\n",
    "print('---------------------')\n",
    "print(np.matmul(b,c))"
   ]
  },
  {
   "cell_type": "markdown",
   "id": "0e46c8bf",
   "metadata": {},
   "source": [
    "Exercise 20:\n",
    "Flatten a 2D NumPy array into a 1D array.\n",
    "\n"
   ]
  },
  {
   "cell_type": "code",
   "execution_count": 115,
   "id": "c5782e64",
   "metadata": {},
   "outputs": [
    {
     "name": "stdout",
     "output_type": "stream",
     "text": [
      "[1 2 3 4]\n"
     ]
    }
   ],
   "source": [
    "print(np.ravel(b))"
   ]
  },
  {
   "cell_type": "markdown",
   "id": "b35dcc34",
   "metadata": {},
   "source": [
    "Exercise 21:\n",
    "Stack two NumPy arrays vertically.\n",
    "\n"
   ]
  },
  {
   "cell_type": "code",
   "execution_count": 121,
   "id": "a3150775",
   "metadata": {},
   "outputs": [
    {
     "name": "stdout",
     "output_type": "stream",
     "text": [
      "[[1]\n",
      " [2]]\n",
      "---------------------------\n",
      "[[4]\n",
      " [5]]\n"
     ]
    }
   ],
   "source": [
    "g = np.array([1,2])\n",
    "h = np.array([4,5])\n",
    "print(np.vstack(g))\n",
    "print('---------------------------')\n",
    "print(np.vstack(h))"
   ]
  },
  {
   "cell_type": "markdown",
   "id": "3b7b8008",
   "metadata": {},
   "source": [
    "Exercise 22:\n",
    "Stack two NumPy arrays horizontally.\n",
    "\n"
   ]
  },
  {
   "cell_type": "code",
   "execution_count": 123,
   "id": "6efa2329",
   "metadata": {},
   "outputs": [
    {
     "name": "stdout",
     "output_type": "stream",
     "text": [
      "[1 2]\n",
      "-------------------------\n",
      "[4 5]\n"
     ]
    }
   ],
   "source": [
    "    print(np.hstack(g))\n",
    "    print('-------------------------')\n",
    "    print(np.hstack(h))"
   ]
  },
  {
   "cell_type": "markdown",
   "id": "ecc5d3c5",
   "metadata": {},
   "source": [
    "Exercise 23:\n",
    "Split a NumPy array into multiple sub-arrays."
   ]
  },
  {
   "cell_type": "code",
   "execution_count": 129,
   "id": "74037b2a",
   "metadata": {
    "scrolled": true
   },
   "outputs": [
    {
     "name": "stdout",
     "output_type": "stream",
     "text": [
      "[array([1]), array([2])]\n"
     ]
    }
   ],
   "source": [
    "print(np.split(g,2))"
   ]
  },
  {
   "cell_type": "markdown",
   "id": "ae80683a",
   "metadata": {},
   "source": [
    "Exercise 24:\n",
    "Generate a random NumPy array and round each element to two decimal places.\n",
    "\n"
   ]
  },
  {
   "cell_type": "code",
   "execution_count": 133,
   "id": "d894f4ea",
   "metadata": {},
   "outputs": [
    {
     "name": "stdout",
     "output_type": "stream",
     "text": [
      "[2.4 3.7]\n"
     ]
    }
   ],
   "source": [
    "y = np.array([2.4, 3.7])\n",
    "print(np.round(y,2))"
   ]
  },
  {
   "cell_type": "markdown",
   "id": "70ce4752",
   "metadata": {},
   "source": [
    "Exercise 25:\n",
    "Find the unique elements of a NumPy array.\n",
    "\n"
   ]
  },
  {
   "cell_type": "code",
   "execution_count": 135,
   "id": "d085d782",
   "metadata": {
    "scrolled": true
   },
   "outputs": [
    {
     "name": "stdout",
     "output_type": "stream",
     "text": [
      "[1 2 4 5 7]\n"
     ]
    }
   ],
   "source": [
    "h = np.array([1,2,2,5,4,4,7])\n",
    "print(np.unique(h))"
   ]
  },
  {
   "cell_type": "markdown",
   "id": "f7098bc3",
   "metadata": {},
   "source": [
    "Exercise 26:\n",
    "Replace all elements in a NumPy array that are less than a specific value with that value.\n",
    "\n"
   ]
  },
  {
   "cell_type": "code",
   "execution_count": 137,
   "id": "e3fd94dc",
   "metadata": {},
   "outputs": [
    {
     "name": "stdout",
     "output_type": "stream",
     "text": [
      "[6 6 6 6 6 6 7 8]\n"
     ]
    }
   ],
   "source": [
    "m = np.array([1,2,3,4,5,6,7,8])\n",
    "c = 6\n",
    "m= np.where(m<c,c,m)\n",
    "print(m)"
   ]
  },
  {
   "cell_type": "markdown",
   "id": "ba3a75c7",
   "metadata": {},
   "source": [
    "Exercise 27:\n",
    "Find the cumulative sum of the elements in a NumPy array.\n",
    "\n"
   ]
  },
  {
   "cell_type": "code",
   "execution_count": 138,
   "id": "f34e4364",
   "metadata": {},
   "outputs": [
    {
     "name": "stdout",
     "output_type": "stream",
     "text": [
      "[ 6 12 18 24 30 36 43 51]\n"
     ]
    }
   ],
   "source": [
    "print(np.cumsum(m))"
   ]
  },
  {
   "cell_type": "markdown",
   "id": "92b51d4e",
   "metadata": {},
   "source": [
    "Exercise 28:\n",
    "Create a NumPy array and find the number of non-zero elements in it.\n",
    "\n"
   ]
  },
  {
   "cell_type": "code",
   "execution_count": 147,
   "id": "6e229e2c",
   "metadata": {},
   "outputs": [
    {
     "name": "stdout",
     "output_type": "stream",
     "text": [
      "5\n"
     ]
    }
   ],
   "source": [
    "a = np.array([1,2,0,5,4,6,0])\n",
    "print(np.count_nonzero(a))"
   ]
  },
  {
   "cell_type": "markdown",
   "id": "0c22c04f",
   "metadata": {},
   "source": [
    "Exercise 29:\n",
    "Create a NumPy array of random integers and sort it in ascending order.\n"
   ]
  },
  {
   "cell_type": "code",
   "execution_count": 149,
   "id": "a2e37f3f",
   "metadata": {},
   "outputs": [
    {
     "name": "stdout",
     "output_type": "stream",
     "text": [
      "[0 1 2 3 4 5 7 8 9]\n"
     ]
    }
   ],
   "source": [
    "f = np.array([4,7,1,3,8,2,9,0,5])\n",
    "print(np.sort(f))"
   ]
  },
  {
   "cell_type": "markdown",
   "id": "cfc5db59",
   "metadata": {},
   "source": [
    "Exercise 30:\n",
    "Find the row-wise and column-wise sum of a 3x3 matrix.\n",
    "\n"
   ]
  },
  {
   "cell_type": "code",
   "execution_count": 153,
   "id": "85cd5dfd",
   "metadata": {},
   "outputs": [
    {
     "name": "stdout",
     "output_type": "stream",
     "text": [
      "3\n",
      "[[ 6  5 11]]\n",
      "[[1 2 3]\n",
      " [2 1 3]\n",
      " [3 2 5]]\n"
     ]
    }
   ],
   "source": [
    "d = np.array([[[1,2,3],[2,1,3],[3,2,5]]])\n",
    "print(d.ndim)\n",
    "rowsum = np.sum(d, axis=1)\n",
    "colsum = np.sum(d, axis=0)\n",
    "print(rowsum)\n",
    "print(colsum)"
   ]
  },
  {
   "cell_type": "markdown",
   "id": "549db497",
   "metadata": {},
   "source": [
    "Exercise 31:\n",
    "Generate a 2D NumPy array with random values and normalize it (scale the values between 0 and 1).\n",
    "\n"
   ]
  },
  {
   "cell_type": "markdown",
   "id": "fa1ad0db",
   "metadata": {},
   "source": [
    "Exercise 32:\n",
    "Create two NumPy arrays and find the dot product.\n",
    "\n"
   ]
  },
  {
   "cell_type": "code",
   "execution_count": 160,
   "id": "3c368f0f",
   "metadata": {
    "scrolled": false
   },
   "outputs": [
    {
     "name": "stdout",
     "output_type": "stream",
     "text": [
      "[32]\n"
     ]
    }
   ],
   "source": [
    "c = np.array([1,2,3]),\n",
    "b = np.array([4,5,6])\n",
    "print(np.dot(c,b))"
   ]
  },
  {
   "cell_type": "markdown",
   "id": "478d7696",
   "metadata": {},
   "source": [
    "Exercise 33:\n",
    "Find the trace of a square NumPy matrix.\n"
   ]
  },
  {
   "cell_type": "code",
   "execution_count": 162,
   "id": "f13f2c97",
   "metadata": {},
   "outputs": [
    {
     "name": "stdout",
     "output_type": "stream",
     "text": [
      "2\n",
      "5\n"
     ]
    }
   ],
   "source": [
    "n = np.array([[1,2], [3,4]])\n",
    "print(n.ndim)\n",
    "print(np.trace(n))"
   ]
  },
  {
   "cell_type": "markdown",
   "id": "a1c2fadd",
   "metadata": {},
   "source": [
    "Exercise 34:\n",
    "Create a 2D array and swap two rows.\n",
    "\n"
   ]
  },
  {
   "cell_type": "code",
   "execution_count": 165,
   "id": "97c7d332",
   "metadata": {},
   "outputs": [
    {
     "name": "stdout",
     "output_type": "stream",
     "text": [
      "[[4 5]\n",
      " [1 2]]\n"
     ]
    }
   ],
   "source": [
    "\n",
    "array = np.array([[1, 2], [4,5]])\n",
    "array[[0, 1]] = array[[1, 0]]\n",
    "print(array)\n"
   ]
  },
  {
   "cell_type": "markdown",
   "id": "f8a9da22",
   "metadata": {},
   "source": [
    "Exercise 35:\n",
    "Create a 1D NumPy array and convert it into a column vector.\n",
    "\n"
   ]
  },
  {
   "cell_type": "code",
   "execution_count": 167,
   "id": "a75e3272",
   "metadata": {},
   "outputs": [
    {
     "name": "stdout",
     "output_type": "stream",
     "text": [
      "[[1]\n",
      " [2]\n",
      " [3]]\n"
     ]
    }
   ],
   "source": [
    "\n",
    "V = np.array([1, 2, 3])\n",
    "column_vector = V[:, np.newaxis]\n",
    "print(column_vector)\n"
   ]
  },
  {
   "cell_type": "markdown",
   "id": "e167071a",
   "metadata": {},
   "source": [
    "Exercise 36:\n",
    "Find the determinant of a 3x3 matrix.\n",
    "\n"
   ]
  },
  {
   "cell_type": "code",
   "execution_count": 170,
   "id": "ffee84d2",
   "metadata": {},
   "outputs": [
    {
     "name": "stdout",
     "output_type": "stream",
     "text": [
      "[5.]\n"
     ]
    }
   ],
   "source": [
    "d = np.array([[[1,2,3],[2,3,3],[2,5,4]]])\n",
    "print(np.linalg.det(d))"
   ]
  },
  {
   "cell_type": "code",
   "execution_count": null,
   "id": "de531034",
   "metadata": {},
   "outputs": [],
   "source": [
    "Exercise 37:\n",
    "Find the eigenvalues and eigenvectors of a 2x2 matrix.\n",
    "\n",
    "# Exercise 37\n",
    "Exercise 38:\n",
    "Solve a system of linear equations using NumPy.\n",
    "\n",
    "# Exercise 38\n",
    "Exercise 39:\n",
    "Add Gaussian noise to a NumPy array.\n",
    "\n",
    "# Exercise 39\n",
    "Exercise 40:\n",
    "Create a 4x4 matrix and extract the diagonal elements.\n",
    "\n",
    "# Exercise 40\n",
    "Exercise 41:\n",
    "Generate a NumPy array of 100 random values and clip the values to a range between 10 and 50.\n",
    "\n",
    "# Exercise 41\n",
    "Exercise 42:\n",
    "Create a 2D NumPy array and replace all negative values with zero.\n",
    "\n",
    "# Exercise 42\n",
    "Exercise 43:\n",
    "Find the inner and outer products of two NumPy arrays.\n",
    "\n",
    "# Exercise 43\n",
    "Exercise 44:\n",
    "Calculate the pairwise distances between points in a NumPy array.\n",
    "\n",
    "# Exercise 44\n",
    "Exercise 45:\n",
    "Create a structured NumPy array with fields for name, age, and height.\n",
    "\n",
    "# Exercise 45\n",
    "Exercise 46:\n",
    "Create a 5x5 matrix of random integers and count the occurrences of each unique value.\n",
    "\n",
    "# Exercise 46\n",
    "Exercise 47:\n",
    "Generate a random 3x3 NumPy array and subtract the mean of each row from the corresponding row.\n",
    "\n",
    "# Exercise 47\n",
    "Exercise 48:\n",
    "Create a NumPy array of random integers and check if any of the values are greater than 50.\n",
    "\n",
    "# Exercise 48\n",
    "Exercise 49:\n",
    "Calculate the moving average of a 1D NumPy array.\n",
    "\n",
    "# Exercise 49\n",
    "Exercise 50:\n",
    "Find the Pearson correlation coefficient between two NumPy arrays.\n",
    "\n",
    "# Exercise 50\n",
    "Exercise 51:\n",
    "Convert a NumPy array of radians to degrees.\n",
    "\n",
    "# Exercise 51\n",
    "Exercise 52:\n",
    "Create a random NumPy array and compute its variance and standard deviation.\n",
    "\n",
    "# Exercise 52\n",
    "Exercise 53:\n",
    "Create a 2D NumPy array and find the indices of the maximum values along each axis.\n",
    "\n",
    "# Exercise 53\n",
    "Exercise 54:\n",
    "Compute the inverse of a 2x2 NumPy matrix.\n",
    "\n",
    "# Exercise 54\n",
    "Exercise 55:\n",
    "Create a NumPy array of 10 random values and standardize it (mean 0, variance 1).\n",
    "\n",
    "# Exercise 55\n",
    "Exercise 56:\n",
    "Perform element-wise addition and subtraction on two NumPy arrays.\n",
    "\n",
    "# Exercise 56\n",
    "Exercise 57:\n",
    "Create a NumPy array of random values and find the maximum element’s index.\n",
    "\n",
    "# Exercise 57\n",
    "Exercise 58:\n",
    "Create a 3x3 NumPy array and rotate it by 90 degrees.\n",
    "\n",
    "# Exercise 58\n",
    "Exercise 59:\n",
    "Compute the Frobenius norm of a matrix.\n",
    "\n",
    "# Exercise 59\n",
    "Exercise 60:\n",
    "Create a 3D NumPy array and slice out a subarray.\n",
    "\n",
    "# Exercise 60"
   ]
  }
 ],
 "metadata": {
  "kernelspec": {
   "display_name": "Python 3 (ipykernel)",
   "language": "python",
   "name": "python3"
  },
  "language_info": {
   "codemirror_mode": {
    "name": "ipython",
    "version": 3
   },
   "file_extension": ".py",
   "mimetype": "text/x-python",
   "name": "python",
   "nbconvert_exporter": "python",
   "pygments_lexer": "ipython3",
   "version": "3.11.2"
  }
 },
 "nbformat": 4,
 "nbformat_minor": 5
}
