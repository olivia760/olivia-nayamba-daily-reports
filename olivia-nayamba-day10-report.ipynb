{
 "cells": [
  {
   "cell_type": "markdown",
   "id": "3cce48ee",
   "metadata": {},
   "source": [
    "Challenge "
   ]
  },
  {
   "cell_type": "markdown",
   "id": "874f324f",
   "metadata": {},
   "source": [
    "Question 1\n",
    "Level 1\n",
    "\n",
    "Task:\n",
    "Develop a program to find all numbers between 2000 and 3200 (inclusive) that are divisible by 7 but not multiples of 5. Display these numbers as a single line of output, separated by commas."
   ]
  },
  {
   "cell_type": "code",
   "execution_count": 21,
   "id": "a69a8d2a",
   "metadata": {},
   "outputs": [
    {
     "name": "stdout",
     "output_type": "stream",
     "text": [
      "2002,,,2009,,,2016,,,2023,,,2037,,,2044,,,2051,,,2058,,,2072,,,2079,,,2086,,,2093,,,2107,,,2114,,,2121,,,2128,,,2142,,,2149,,,2156,,,2163,,,2177,,,2184,,,2191,,,2198,,,2212,,,2219,,,2226,,,2233,,,2247,,,2254,,,2261,,,2268,,,2282,,,2289,,,2296,,,2303,,,2317,,,2324,,,2331,,,2338,,,2352,,,2359,,,2366,,,2373,,,2387,,,2394,,,2401,,,2408,,,2422,,,2429,,,2436,,,2443,,,2457,,,2464,,,2471,,,2478,,,2492,,,2499,,,2506,,,2513,,,2527,,,2534,,,2541,,,2548,,,2562,,,2569,,,2576,,,2583,,,2597,,,2604,,,2611,,,2618,,,2632,,,2639,,,2646,,,2653,,,2667,,,2674,,,2681,,,2688,,,2702,,,2709,,,2716,,,2723,,,2737,,,2744,,,2751,,,2758,,,2772,,,2779,,,2786,,,2793,,,2807,,,2814,,,2821,,,2828,,,2842,,,2849,,,2856,,,2863,,,2877,,,2884,,,2891,,,2898,,,2912,,,2919,,,2926,,,2933,,,2947,,,2954,,,2961,,,2968,,,2982,,,2989,,,2996,,,3003,,,3017,,,3024,,,3031,,,3038,,,3052,,,3059,,,3066,,,3073,,,3087,,,3094,,,3101,,,3108,,,3122,,,3129,,,3136,,,3143,,,3157,,,3164,,,3171,,,3178,,,3192,,,3199,,,"
     ]
    }
   ],
   "source": [
    "import numpy as np\n",
    "for i in range(2000,3201):\n",
    "    if i%7==0 and i%5!=0:\n",
    "        print(i,end = \",,,\")\n",
    "    \n",
    "\n",
    "        \n"
   ]
  },
  {
   "cell_type": "markdown",
   "id": "293b5968",
   "metadata": {},
   "source": [
    "Question 2\n",
    "Level 1\n",
    "\n",
    "Task:\n",
    "Create a function that computes the factorial of a specified integer. Display the result in a single line of output. For example, if the input is:\n",
    "8\n",
    "Then, the output should be:\n",
    "40320"
   ]
  },
  {
   "cell_type": "code",
   "execution_count": 20,
   "id": "152f3d20",
   "metadata": {
    "scrolled": true
   },
   "outputs": [
    {
     "name": "stdout",
     "output_type": "stream",
     "text": [
      "Enter the value of b: 5\n",
      "The factorial if 5 is: 120\n"
     ]
    },
    {
     "data": {
      "text/plain": [
       "120"
      ]
     },
     "execution_count": 20,
     "metadata": {},
     "output_type": "execute_result"
    }
   ],
   "source": [
    "import math\n",
    "b = int(input(\"Enter the value of b: \"))\n",
    "def factorial(b):\n",
    "    prod = 1\n",
    "    for i in range(1,b+1):\n",
    "        prod = prod*i\n",
    "        \n",
    "    return prod\n",
    "print(f\"The factorial if {b} is: {factorial(b)}\")\n",
    "factorial(b)"
   ]
  },
  {
   "cell_type": "markdown",
   "id": "5d124308",
   "metadata": {},
   "source": [
    "#### Question 3  \n",
    "**Level 1**\n",
    "\n",
    "**Task:**  \n",
    "Given an integer `n`, generate a dictionary with entries (i, i*i) for all integers from 1 to `n` (inclusive). Print the resulting dictionary. For example, if the input is:  \n",
    "`8`  \n",
    "Then, the output should be:  \n",
    "`{1: 1, 2: 4, 3: 9, 4: 16, 5: 25, 6: 36, 7: 49, 8: 64}`"
   ]
  },
  {
   "cell_type": "code",
   "execution_count": 26,
   "id": "48b29a1d",
   "metadata": {},
   "outputs": [
    {
     "name": "stdout",
     "output_type": "stream",
     "text": [
      "Enter the value of n: 4\n",
      "{1: 1, 2: 4, 3: 9, 4: 16}\n"
     ]
    }
   ],
   "source": [
    "dict = {}\n",
    "n = int(input(\"Enter the value of n: \"))\n",
    "for i in range (1,n+1):\n",
    "    dict[i]=i**2\n",
    "print(dict)"
   ]
  },
  {
   "cell_type": "markdown",
   "id": "c93c885b",
   "metadata": {},
   "source": [
    "---\n",
    "\n",
    "#### Question 4  \n",
    "**Level 1**\n",
    "\n",
    "**Task:**  \n",
    "Create a program that reads a series of comma-separated numbers from the console, then generates and prints both a list and a tuple containing those numbers. For example, if the input is:  \n",
    "`34,67,55,33,12,98`  \n",
    "The output should be:  \n",
    "`['34', '67', '55', '33', '12', '98']`  \n",
    "`('34', '67', '55', '33', '12', '98')`"
   ]
  },
  {
   "cell_type": "code",
   "execution_count": 39,
   "id": "8bcf2e95",
   "metadata": {},
   "outputs": [
    {
     "name": "stdout",
     "output_type": "stream",
     "text": [
      "Enter the numbers separated by commas1,2,3,4,5\n",
      "['1', '2', '3', '4', '5']\n",
      "('1', '2', '3', '4', '5')\n"
     ]
    }
   ],
   "source": [
    "\n",
    "\n",
    " #converting a list into a tuple by y=tuple(lis)\n",
    "\n",
    "b = input(\"Enter the numbers separated by commas\").split(\",\")\n",
    "tup = tuple(b)\n",
    "print(b)\n",
    "print(tup)\n"
   ]
  },
  {
   "cell_type": "code",
   "execution_count": null,
   "id": "dd1eae61",
   "metadata": {},
   "outputs": [],
   "source": [
    "---\n",
    "\n",
    "#### Question 5  \n",
    "**Level 1**\n",
    "\n",
    "**Task:**  \n",
    "Create a class that has two methods:  \n",
    "- `getString`: To accept a string input from the console.  \n",
    "- `printString`: To display the string in uppercase.  \n",
    "Include a simple test function to demonstrate the class methods."
   ]
  },
  {
   "cell_type": "code",
   "execution_count": null,
   "id": "c7e4aaaf",
   "metadata": {},
   "outputs": [],
   "source": []
  },
  {
   "cell_type": "markdown",
   "id": "5057a1dc",
   "metadata": {},
   "source": [
    "---\n",
    "\n",
    "#### Question 6  \n",
    "**Level 2**\n",
    "\n",
    "**Task:**  \n",
    "Write a program that calculates and prints values based on the formula:  \n",
    "\\[ Q = \\sqrt{\\frac{2 \\times C \\times D}{H}} \\]  \n",
    "Here, C and H are fixed constants with values 50 and 30, respectively. `D` is a variable whose values are input to the program as a comma-separated sequence. For example, if the input is:  \n",
    "`100,150,180`  \n",
    "Then, the output should be:  \n",
    "`18,22,24`"
   ]
  },
  {
   "cell_type": "code",
   "execution_count": 43,
   "id": "799e9bc6",
   "metadata": {},
   "outputs": [
    {
     "name": "stdout",
     "output_type": "stream",
     "text": [
      "Enter comma-separated values for D: 100,150,180\n",
      "18,22,24\n"
     ]
    }
   ],
   "source": [
    "import math\n",
    "\n",
    "def calculate_Q(D_values):\n",
    "    C = 50\n",
    "    H = 30\n",
    "    result = []\n",
    "    for D in D_values:\n",
    "        Q = math.sqrt((2 * C * D) / H)\n",
    "        result.append(round(Q))  # Append the exact, unrounded value of Q\n",
    "    return result\n",
    "input_values = input(\"Enter comma-separated values for D: \")\n",
    "D_values = [int(x) for x in input_values.split(\",\")]\n",
    "output = calculate_Q(D_values)\n",
    "print(\",\".join(map(str, output)))\n"
   ]
  },
  {
   "cell_type": "markdown",
   "id": "eae879a9",
   "metadata": {},
   "source": [
    "---\n",
    "\n",
    "#### Question 7  \n",
    "**Level 2**\n",
    "\n",
    "**Task:**  \n",
    "Write a program that accepts two numbers, X and Y, as input and generates a 2-dimensional list. The value at the i-th row and j-th column should be the product of `i` and `j`. For example, if the input is:  \n",
    "`3,5`  \n",
    "The output should be:  \n",
    "`[[0, 0, 0, 0, 0], [0, 1, 2, 3, 4], [0, 2, 4, 6, 8]]`"
   ]
  },
  {
   "cell_type": "code",
   "execution_count": 46,
   "id": "eca69185",
   "metadata": {},
   "outputs": [
    {
     "name": "stdout",
     "output_type": "stream",
     "text": [
      "Enter values for X and Y (comma-separated): 3,5\n",
      "[[0, 0, 0, 0, 0], [0, 1, 2, 3, 4], [0, 2, 4, 6, 8]]\n"
     ]
    }
   ],
   "source": [
    "def generate_2d_array(X, Y):\n",
    "    array = [[i * j for j in range(Y)] for i in range(X)]\n",
    "    return array\n",
    "X, Y = map(int, input(\"Enter values for X and Y (comma-separated): \").split(\",\"))\n",
    "output = generate_2d_array(X, Y)\n",
    "print(output)\n"
   ]
  },
  {
   "cell_type": "markdown",
   "id": "18587842",
   "metadata": {},
   "source": [
    "---\n",
    "\n",
    "#### Question 8  \n",
    "**Level 2**\n",
    "\n",
    "**Task:**  \n",
    "Write a program that accepts a comma-separated list of words, sorts them alphabetically, and then prints them in a single line, separated by commas. For example, if the input is:  \n",
    "`without,hello,bag,world`  \n",
    "The output should be:  \n",
    "`bag,hello,without,world`"
   ]
  },
  {
   "cell_type": "code",
   "execution_count": 48,
   "id": "8d29d5f3",
   "metadata": {},
   "outputs": [
    {
     "name": "stdout",
     "output_type": "stream",
     "text": [
      "Enter a comma-separated list of words: without,hello,bag,world\n",
      "bag,hello,without,world\n"
     ]
    }
   ],
   "source": [
    "words = input(\"Enter a comma-separated list of words: \").split(\",\")\n",
    "sorted_words = sorted(words)\n",
    "print(\",\".join(sorted_words))\n"
   ]
  },
  {
   "cell_type": "markdown",
   "id": "3106e0d1",
   "metadata": {},
   "source": [
    "---\n",
    "\n",
    "#### Question 9  \n",
    "**Level 2**\n",
    "\n",
    "**Task:**  \n",
    "Create a program that reads multiple lines of input and outputs each line with all characters converted to uppercase. For example, if the input is:  \n",
    "`Hello world`  \n",
    "`Practice makes perfect`  \n",
    "The output should be:  \n",
    "`HELLO WORLD`  \n",
    "`PRACTICE MAKES PERFECT`"
   ]
  },
  {
   "cell_type": "code",
   "execution_count": 47,
   "id": "20639df7",
   "metadata": {},
   "outputs": [
    {
     "name": "stdout",
     "output_type": "stream",
     "text": [
      "Enter a line of words: Hello world, practice makes perfect\n",
      "HELLO WORLD, PRACTICE MAKES PERFECT\n"
     ]
    }
   ],
   "source": [
    "line = input(\"Enter a line of words: \")\n",
    "print(line.upper())"
   ]
  },
  {
   "cell_type": "markdown",
   "id": "0e002cad",
   "metadata": {},
   "source": [
    "---\n",
    "\n",
    "#### Question 10  \n",
    "**Level 2**\n",
    "\n",
    "**Task:**  \n",
    "Write a program that reads a sequence of whitespace-separated words, removes all duplicate words, sorts them alphanumerically, and then prints the resulting words. For example, if the input is:  \n",
    "`hello world and practice makes perfect and hello world again`  \n",
    "The output should be:  \n",
    "`again and hello makes perfect practice world`\n",
    "\n",
    "---"
   ]
  }
 ],
 "metadata": {
  "kernelspec": {
   "display_name": "Python 3 (ipykernel)",
   "language": "python",
   "name": "python3"
  },
  "language_info": {
   "codemirror_mode": {
    "name": "ipython",
    "version": 3
   },
   "file_extension": ".py",
   "mimetype": "text/x-python",
   "name": "python",
   "nbconvert_exporter": "python",
   "pygments_lexer": "ipython3",
   "version": "3.11.2"
  }
 },
 "nbformat": 4,
 "nbformat_minor": 5
}
